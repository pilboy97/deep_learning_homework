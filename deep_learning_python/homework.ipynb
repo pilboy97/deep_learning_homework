{
 "cells": [
  {
   "cell_type": "code",
   "execution_count": 7,
   "id": "abf4df10-f9f4-440b-aae4-e97b20233edf",
   "metadata": {},
   "outputs": [],
   "source": [
    "# import\n",
    "import numpy as np\n",
    "import cv2\n",
    "\n",
    "from os import environ\n",
    "\n",
    "# 멀티 스레딩 시도\n",
    "\n",
    "N_THREADS = '8'\n",
    "environ['OMP_NUM_THREADS'] = N_THREADS\n",
    "environ['OPENBLAS_NUM_THREADS'] = N_THREADS\n",
    "environ['MKL_NUM_THREADS'] = N_THREADS\n",
    "environ['VECLIB_MAXIMUM_THREADS'] = N_THREADS\n",
    "environ['NUMEXPR_NUM_THREADS'] = N_THREADS"
   ]
  },
  {
   "cell_type": "code",
   "execution_count": 8,
   "id": "95cebf87-8918-4add-bc26-9c7be1518b21",
   "metadata": {},
   "outputs": [
    {
     "name": "stdout",
     "output_type": "stream",
     "text": [
      "(3, 128, 128)\n"
     ]
    }
   ],
   "source": [
    "import glob\n",
    "\n",
    "path = './data_homework/G1020/Images/'\n",
    "\n",
    "target = glob.glob(path + '*.jpg')\n",
    "X = []\n",
    "for idx in range(len(target)):\n",
    "    print(f\"{idx+1} / {len(target)}\", end='\\r')\n",
    "    path = target[idx]\n",
    "    img = cv2.imread(path)\n",
    "    img = cv2.resize(img, dsize=(128, 128), interpolation=cv2.INTER_CUBIC) / 255.0\n",
    "    img.resize(3, 128, 128)\n",
    "    X.append(img)\n",
    "\n",
    "print(X[0].shape)"
   ]
  },
  {
   "cell_type": "code",
   "execution_count": 9,
   "id": "19b44acd-2810-4f26-8ae7-65be18859124",
   "metadata": {},
   "outputs": [
    {
     "name": "stdout",
     "output_type": "stream",
     "text": [
      "(1, 128, 128) [0 1 2]\n"
     ]
    }
   ],
   "source": [
    "import glob\n",
    "\n",
    "path = './data_homework/G1020/Masks/'\n",
    "\n",
    "target = glob.glob(path + '*.png')\n",
    "Y = []\n",
    "for idx in range(len(target)):\n",
    "    print(f\"{idx+1} / {len(target)}\", end='\\r')\n",
    "    path = target[idx]\n",
    "    img = cv2.imread(path, cv2.IMREAD_GRAYSCALE)\n",
    "    img = cv2.resize(img,dsize=(128, 128), interpolation=cv2.INTER_CUBIC)\n",
    "    img = img.reshape(1,128, 128)\n",
    "    Y.append(img)\n",
    "\n",
    "print(Y[0].shape, np.unique(Y[0]))"
   ]
  },
  {
   "cell_type": "code",
   "execution_count": 10,
   "id": "54780fc7-f0d2-4dfd-9c64-a69690d1fd7a",
   "metadata": {},
   "outputs": [],
   "source": [
    "from lib.conv2d import Conv2D\n",
    "from lib.maxpool import MaxPool2D\n",
    "from lib.bce import BCE\n",
    "from lib.batch_norm import BatchNorm2d\n",
    "from lib.relu import ReLU\n",
    "from lib.sigmoid import Sigmoid\n",
    "from lib.dropout import Dropout\n",
    "from lib.flatten import Flatten\n",
    "from lib.affine import Affine\n",
    "from lib.adam import Adam\n",
    "from lib.softmax import Softmax\n",
    "\n",
    "class CNN:\n",
    "    def __init__(self):\n",
    "        self.layers = [\n",
    "            Conv2D(3, 16, 3, stride=1, padding=1),\n",
    "            BatchNorm2d(16),\n",
    "            ReLU(),\n",
    "            Conv2D(16, 32, 3, stride=1, padding=1),\n",
    "            BatchNorm2d(32),\n",
    "            ReLU(),\n",
    "            Conv2D(32, 32, 3, stride=1, padding=1),\n",
    "            BatchNorm2d(32),\n",
    "            ReLU(),\n",
    "            Conv2D(32, 16, 3, stride=1, padding=1),\n",
    "            BatchNorm2d(16),\n",
    "            ReLU(),\n",
    "            Conv2D(16, 3, 3, stride=1, padding=1),\n",
    "            Sigmoid()\n",
    "        ]\n",
    "        self.loss_layer = Softmax()\n",
    "        self.optimizer = Adam(learning_rate=0.005)\n",
    "        self.initial_lr = 0.005\n",
    "        self.lr = self.initial_lr\n",
    "\n",
    "\n",
    "    def forward(self, X, is_training=True):\n",
    "        for layer in self.layers:\n",
    "            if isinstance(layer, Dropout):\n",
    "                X = layer.forward(X, is_training=is_training)\n",
    "            else:\n",
    "                X = layer.forward(X)\n",
    "        return X\n",
    "        \n",
    "    def backward(self, d_out):\n",
    "        for layer in reversed(self.layers):\n",
    "            if isinstance(layer, BatchNorm2d):\n",
    "                d_out, dgamma, dbeta = layer.backward(d_out)\n",
    "                self.optimizer.update_batchnorm_params(layer, dgamma, dbeta)\n",
    "            else:\n",
    "                d_out = layer.backward(d_out)\n",
    "        \n",
    "        return d_out\n",
    "\n",
    "    \n",
    "    def train_step(self, X, y):\n",
    "        # 순전파\n",
    "        y_pred = self.forward(X, is_training=True)\n",
    "        \n",
    "        loss = self.loss_layer.forward(y_pred, y)\n",
    "        \n",
    "        # 역전파\n",
    "        d_out = self.loss_layer.backward(y)\n",
    "        self.backward(d_out)\n",
    "        \n",
    "        for layer in self.layers:\n",
    "            if hasattr(layer, 'W'):\n",
    "                self.optimizer.update(layer)\n",
    "        \n",
    "        return loss\n",
    "\n",
    "\n",
    "    def predict(self, X):\n",
    "        logits = self.forward(X)\n",
    "        return np.argmax(logits, axis=1)\n",
    "\n",
    "nn = CNN()"
   ]
  },
  {
   "cell_type": "code",
   "execution_count": 11,
   "id": "c5940031-0323-48cb-97a9-afefae2586ca",
   "metadata": {},
   "outputs": [],
   "source": [
    "import time\n",
    "import datetime\n",
    "def train_and_test(nn, num_epochs, batch_size, decay_rate=0.95, verbose=False):\n",
    "    for epoch in range(num_epochs):\n",
    "        begin = time.time()\n",
    "        \n",
    "        total_loss = 0\n",
    "        num_batches = len(X_train) // batch_size\n",
    "        \n",
    "        for i in range(0, len(X_train), batch_size):\n",
    "            b_begin = time.time()\n",
    "            X_batch = np.array(X_train[i:i+batch_size])\n",
    "            y_batch = np.array(Y_train[i:i+batch_size])\n",
    "\n",
    "            loss = nn.train_step(X_batch, y_batch)\n",
    "            total_loss += loss\n",
    "\n",
    "            if verbose:\n",
    "                b_end = time.time()\n",
    "                elapsed = b_end - b_begin\n",
    "                print(f\"\\rBatch {i//batch_size+1}/{num_batches}, Current Loss: {loss:.4f}, Time: {elapsed}\", end='')\n",
    "\n",
    "        avg_loss = total_loss / num_batches\n",
    "        \n",
    "        end = time.time()\n",
    "        elapsed = end - begin\n",
    "        print(f\"\\nEpoch {epoch+1}/{num_epochs}, Avg Loss: {avg_loss:.4f}, Time: {elapsed:.2f}s\")\n"
   ]
  },
  {
   "cell_type": "code",
   "execution_count": 12,
   "id": "321b573f-aed1-46e0-8ed1-73349707867c",
   "metadata": {},
   "outputs": [],
   "source": [
    "pivot = int(len(X) * 0.7)\n",
    "X_train, X_test = X[:pivot], X[pivot:]\n",
    "Y_train, Y_test = Y[:pivot], Y[pivot:]"
   ]
  },
  {
   "cell_type": "code",
   "execution_count": 13,
   "id": "563abd65-30e8-43fa-bcfd-3b50c341f091",
   "metadata": {},
   "outputs": [
    {
     "name": "stdout",
     "output_type": "stream",
     "text": [
      "CNN training start\n"
     ]
    },
    {
     "ename": "KeyboardInterrupt",
     "evalue": "",
     "output_type": "error",
     "traceback": [
      "\u001b[0;31m---------------------------------------------------------------------------\u001b[0m",
      "\u001b[0;31mKeyboardInterrupt\u001b[0m                         Traceback (most recent call last)",
      "Cell \u001b[0;32mIn[13], line 7\u001b[0m\n\u001b[1;32m      5\u001b[0m \u001b[38;5;66;03m# 신경망 학습 및 테스트\u001b[39;00m\n\u001b[1;32m      6\u001b[0m \u001b[38;5;28mprint\u001b[39m(\u001b[38;5;124m\"\u001b[39m\u001b[38;5;124mCNN training start\u001b[39m\u001b[38;5;124m\"\u001b[39m)\n\u001b[0;32m----> 7\u001b[0m \u001b[43mtrain_and_test\u001b[49m\u001b[43m(\u001b[49m\u001b[43mnn\u001b[49m\u001b[43m,\u001b[49m\u001b[43m \u001b[49m\u001b[43mnum_epochs\u001b[49m\u001b[43m,\u001b[49m\u001b[43m \u001b[49m\u001b[43mbatch_size\u001b[49m\u001b[43m,\u001b[49m\u001b[43m \u001b[49m\u001b[43mverbose\u001b[49m\u001b[38;5;241;43m=\u001b[39;49m\u001b[38;5;28;43;01mTrue\u001b[39;49;00m\u001b[43m)\u001b[49m\n",
      "Cell \u001b[0;32mIn[11], line 15\u001b[0m, in \u001b[0;36mtrain_and_test\u001b[0;34m(nn, num_epochs, batch_size, decay_rate, verbose)\u001b[0m\n\u001b[1;32m     12\u001b[0m X_batch \u001b[38;5;241m=\u001b[39m np\u001b[38;5;241m.\u001b[39marray(X_train[i:i\u001b[38;5;241m+\u001b[39mbatch_size])\n\u001b[1;32m     13\u001b[0m y_batch \u001b[38;5;241m=\u001b[39m np\u001b[38;5;241m.\u001b[39marray(Y_train[i:i\u001b[38;5;241m+\u001b[39mbatch_size])\n\u001b[0;32m---> 15\u001b[0m loss \u001b[38;5;241m=\u001b[39m \u001b[43mnn\u001b[49m\u001b[38;5;241;43m.\u001b[39;49m\u001b[43mtrain_step\u001b[49m\u001b[43m(\u001b[49m\u001b[43mX_batch\u001b[49m\u001b[43m,\u001b[49m\u001b[43m \u001b[49m\u001b[43my_batch\u001b[49m\u001b[43m)\u001b[49m\n\u001b[1;32m     16\u001b[0m total_loss \u001b[38;5;241m+\u001b[39m\u001b[38;5;241m=\u001b[39m loss\n\u001b[1;32m     18\u001b[0m \u001b[38;5;28;01mif\u001b[39;00m verbose:\n",
      "Cell \u001b[0;32mIn[10], line 58\u001b[0m, in \u001b[0;36mCNN.train_step\u001b[0;34m(self, X, y)\u001b[0m\n\u001b[1;32m     56\u001b[0m \u001b[38;5;28;01mdef\u001b[39;00m \u001b[38;5;21mtrain_step\u001b[39m(\u001b[38;5;28mself\u001b[39m, X, y):\n\u001b[1;32m     57\u001b[0m     \u001b[38;5;66;03m# 순전파\u001b[39;00m\n\u001b[0;32m---> 58\u001b[0m     y_pred \u001b[38;5;241m=\u001b[39m \u001b[38;5;28;43mself\u001b[39;49m\u001b[38;5;241;43m.\u001b[39;49m\u001b[43mforward\u001b[49m\u001b[43m(\u001b[49m\u001b[43mX\u001b[49m\u001b[43m,\u001b[49m\u001b[43m \u001b[49m\u001b[43mis_training\u001b[49m\u001b[38;5;241;43m=\u001b[39;49m\u001b[38;5;28;43;01mTrue\u001b[39;49;00m\u001b[43m)\u001b[49m\n\u001b[1;32m     60\u001b[0m     loss \u001b[38;5;241m=\u001b[39m \u001b[38;5;28mself\u001b[39m\u001b[38;5;241m.\u001b[39mloss_layer\u001b[38;5;241m.\u001b[39mforward(y_pred, y)\n\u001b[1;32m     62\u001b[0m     \u001b[38;5;66;03m# 역전파\u001b[39;00m\n",
      "Cell \u001b[0;32mIn[10], line 42\u001b[0m, in \u001b[0;36mCNN.forward\u001b[0;34m(self, X, is_training)\u001b[0m\n\u001b[1;32m     40\u001b[0m         X \u001b[38;5;241m=\u001b[39m layer\u001b[38;5;241m.\u001b[39mforward(X, is_training\u001b[38;5;241m=\u001b[39mis_training)\n\u001b[1;32m     41\u001b[0m     \u001b[38;5;28;01melse\u001b[39;00m:\n\u001b[0;32m---> 42\u001b[0m         X \u001b[38;5;241m=\u001b[39m \u001b[43mlayer\u001b[49m\u001b[38;5;241;43m.\u001b[39;49m\u001b[43mforward\u001b[49m\u001b[43m(\u001b[49m\u001b[43mX\u001b[49m\u001b[43m)\u001b[49m\n\u001b[1;32m     43\u001b[0m \u001b[38;5;28;01mreturn\u001b[39;00m X\n",
      "File \u001b[0;32m~/dev/deep_learning/lib/conv2d.py:49\u001b[0m, in \u001b[0;36mConv2D.forward\u001b[0;34m(self, X)\u001b[0m\n\u001b[1;32m     46\u001b[0m         X_slice \u001b[38;5;241m=\u001b[39m X_padded[:, :, i_start:i_end, j_start:j_end]\u001b[38;5;241m.\u001b[39mreshape(batch_size, \u001b[38;5;241m-\u001b[39m\u001b[38;5;241m1\u001b[39m)\n\u001b[1;32m     48\u001b[0m         \u001b[38;5;66;03m# Dot product + bias\u001b[39;00m\n\u001b[0;32m---> 49\u001b[0m         output[:, :, i, j] \u001b[38;5;241m=\u001b[39m \u001b[43mnp\u001b[49m\u001b[38;5;241;43m.\u001b[39;49m\u001b[43mtensordot\u001b[49m\u001b[43m(\u001b[49m\u001b[43mX_slice\u001b[49m\u001b[43m,\u001b[49m\u001b[43m \u001b[49m\u001b[43mW_reshaped\u001b[49m\u001b[43m,\u001b[49m\u001b[43m \u001b[49m\u001b[43maxes\u001b[49m\u001b[38;5;241;43m=\u001b[39;49m\u001b[38;5;241;43m1\u001b[39;49m\u001b[43m)\u001b[49m\u001b[38;5;241m.\u001b[39mreshape(batch_size, \u001b[38;5;28mself\u001b[39m\u001b[38;5;241m.\u001b[39moutput_channels) \u001b[38;5;241m+\u001b[39m \u001b[38;5;28mself\u001b[39m\u001b[38;5;241m.\u001b[39mb\n\u001b[1;32m     51\u001b[0m \u001b[38;5;28;01mreturn\u001b[39;00m output\n",
      "File \u001b[0;32m~/dev/deep_learning/.venv/lib/python3.12/site-packages/numpy/_core/numeric.py:1143\u001b[0m, in \u001b[0;36mtensordot\u001b[0;34m(a, b, axes)\u001b[0m\n\u001b[1;32m   1141\u001b[0m         \u001b[38;5;28;01mif\u001b[39;00m axes_a[k] \u001b[38;5;241m<\u001b[39m \u001b[38;5;241m0\u001b[39m:\n\u001b[1;32m   1142\u001b[0m             axes_a[k] \u001b[38;5;241m+\u001b[39m\u001b[38;5;241m=\u001b[39m nda\n\u001b[0;32m-> 1143\u001b[0m         \u001b[38;5;28;01mif\u001b[39;00m axes_b[k] \u001b[38;5;241m<\u001b[39m \u001b[38;5;241m0\u001b[39m:\n\u001b[1;32m   1144\u001b[0m             axes_b[k] \u001b[38;5;241m+\u001b[39m\u001b[38;5;241m=\u001b[39m ndb\n\u001b[1;32m   1145\u001b[0m \u001b[38;5;28;01mif\u001b[39;00m \u001b[38;5;129;01mnot\u001b[39;00m equal:\n",
      "\u001b[0;31mKeyboardInterrupt\u001b[0m: "
     ]
    }
   ],
   "source": [
    "# 학습 설정\n",
    "num_epochs = 5\n",
    "batch_size = 64\n",
    "\n",
    "# 신경망 학습 및 테스트\n",
    "print(\"CNN training start\")\n",
    "train_and_test(nn, num_epochs, batch_size, verbose=True)"
   ]
  },
  {
   "cell_type": "code",
   "execution_count": null,
   "id": "4a3750bb-d9f4-4c94-a3e0-4294a8fec182",
   "metadata": {},
   "outputs": [],
   "source": []
  }
 ],
 "metadata": {
  "kernelspec": {
   "display_name": "Python 3 (ipykernel)",
   "language": "python",
   "name": "python3"
  },
  "language_info": {
   "codemirror_mode": {
    "name": "ipython",
    "version": 3
   },
   "file_extension": ".py",
   "mimetype": "text/x-python",
   "name": "python",
   "nbconvert_exporter": "python",
   "pygments_lexer": "ipython3",
   "version": "3.12.3"
  }
 },
 "nbformat": 4,
 "nbformat_minor": 5
}
